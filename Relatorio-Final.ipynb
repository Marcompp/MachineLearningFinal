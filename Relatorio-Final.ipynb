{
 "cells": [
  {
   "attachments": {},
   "cell_type": "markdown",
   "metadata": {},
   "source": [
    "# Relatório do Projeto Final\n",
    "\n",
    "## Machine Learning - 2023.1\n",
    "\n",
    "### Autores: Marco Moliterno e Renato Falcão\n",
    "\n",
    "Este relatório tem o objetivo de descrever a aplicação de técnicas de aprendizado de máquina para prever o preço de cartas de Yu-Gi-Oh baseando-se nas múltiplas características das mesmas.\n",
    "\n",
    "O dataset estudado é uma união da base de dados, disponibilizada no [Kaggle](https://www.kaggle.com/), com os preços médios das cartas, disponibilizada pela API do website [Yu-Gi-Oh Prices](https://yugiohprices.com/).\n",
    "\n",
    "#### Referências\n",
    "\n",
    "Base de dados do Kaggle disponível [aqui](https://www.kaggle.com/datasets/thedevastator/yu-gi-oh-dataset?select=yugioh_enriched.csv).\n",
    "\n",
    "Requisições web realizadas ao iterar sobre os sets de cartas, obtendo os preços das cartas pertencentes aos respectivos sets. Esta API pode ser consumida pelo endpoint `https://yugiohprices.com/api/set_data/{nome_do_set}`. Exemplo de resposta pode ser observado [aqui](https://yugiohprices.com/api/set_data/2013%20Collectible%20Tins%20Wave%201)."
   ]
  },
  {
   "attachments": {},
   "cell_type": "markdown",
   "metadata": {},
   "source": [
    "## Inicio do projeto"
   ]
  },
  {
   "attachments": {},
   "cell_type": "markdown",
   "metadata": {},
   "source": [
    "### Importando bibliotecas e carregando base de dados\n",
    "\n",
    "Para realizar o estudo, estaremos utilizando especialmente as bibliotecas *Pandas*, *MatPlotLib*, *Scikit-Learn* e *Numpy*. Vamos importá-las e carregar a base de dados com o Pandas."
   ]
  },
  {
   "cell_type": "code",
   "execution_count": 2,
   "metadata": {},
   "outputs": [
    {
     "data": {
      "text/html": [
       "<div>\n",
       "<style scoped>\n",
       "    .dataframe tbody tr th:only-of-type {\n",
       "        vertical-align: middle;\n",
       "    }\n",
       "\n",
       "    .dataframe tbody tr th {\n",
       "        vertical-align: top;\n",
       "    }\n",
       "\n",
       "    .dataframe thead th {\n",
       "        text-align: right;\n",
       "    }\n",
       "</style>\n",
       "<table border=\"1\" class=\"dataframe\">\n",
       "  <thead>\n",
       "    <tr style=\"text-align: right;\">\n",
       "      <th></th>\n",
       "      <th>Name</th>\n",
       "      <th>Rarity</th>\n",
       "      <th>Price</th>\n",
       "      <th>Description</th>\n",
       "      <th>CardType</th>\n",
       "      <th>Attribute</th>\n",
       "      <th>ATK</th>\n",
       "      <th>DEF</th>\n",
       "      <th>LVL</th>\n",
       "      <th>Property</th>\n",
       "      <th>MonsterType</th>\n",
       "      <th>isEffect</th>\n",
       "      <th>Ability1</th>\n",
       "      <th>Ability2</th>\n",
       "      <th>isTuner</th>\n",
       "      <th>isPendulum</th>\n",
       "    </tr>\n",
       "  </thead>\n",
       "  <tbody>\n",
       "    <tr>\n",
       "      <th>0</th>\n",
       "      <td>XX-Saber Boggart Knight</td>\n",
       "      <td>Shatterfoil Rare</td>\n",
       "      <td>2.73</td>\n",
       "      <td>When this card is Normal Summoned: You can Spe...</td>\n",
       "      <td>monster</td>\n",
       "      <td>earth</td>\n",
       "      <td>1900.0</td>\n",
       "      <td>1000.0</td>\n",
       "      <td>4.0</td>\n",
       "      <td>NaN</td>\n",
       "      <td>Beast-Warrior</td>\n",
       "      <td>Effect</td>\n",
       "      <td>NaN</td>\n",
       "      <td>NaN</td>\n",
       "      <td>NaN</td>\n",
       "      <td>NaN</td>\n",
       "    </tr>\n",
       "    <tr>\n",
       "      <th>1</th>\n",
       "      <td>Gagaga Cowboy</td>\n",
       "      <td>Shatterfoil Rare</td>\n",
       "      <td>4.68</td>\n",
       "      <td>2 Level 4 monsters\\r\\n\\r\\nOnce per turn: You c...</td>\n",
       "      <td>monster</td>\n",
       "      <td>earth</td>\n",
       "      <td>1500.0</td>\n",
       "      <td>2400.0</td>\n",
       "      <td>4.0</td>\n",
       "      <td>NaN</td>\n",
       "      <td>Warrior</td>\n",
       "      <td>Effect</td>\n",
       "      <td>Xyz</td>\n",
       "      <td>NaN</td>\n",
       "      <td>NaN</td>\n",
       "      <td>NaN</td>\n",
       "    </tr>\n",
       "    <tr>\n",
       "      <th>2</th>\n",
       "      <td>Forbidden Chalice</td>\n",
       "      <td>Shatterfoil Rare</td>\n",
       "      <td>2.09</td>\n",
       "      <td>Target 1 face-up monster on the field; until t...</td>\n",
       "      <td>spell</td>\n",
       "      <td>NaN</td>\n",
       "      <td>NaN</td>\n",
       "      <td>NaN</td>\n",
       "      <td>NaN</td>\n",
       "      <td>Quick-Play</td>\n",
       "      <td>NaN</td>\n",
       "      <td>NaN</td>\n",
       "      <td>NaN</td>\n",
       "      <td>NaN</td>\n",
       "      <td>NaN</td>\n",
       "      <td>NaN</td>\n",
       "    </tr>\n",
       "    <tr>\n",
       "      <th>3</th>\n",
       "      <td>Fairy Cheer Girl</td>\n",
       "      <td>Shatterfoil Rare</td>\n",
       "      <td>2.06</td>\n",
       "      <td>2 Level 4 Fairy-Type monsters\\r\\n\\r\\nYou can d...</td>\n",
       "      <td>monster</td>\n",
       "      <td>light</td>\n",
       "      <td>1900.0</td>\n",
       "      <td>1500.0</td>\n",
       "      <td>4.0</td>\n",
       "      <td>NaN</td>\n",
       "      <td>Fairy</td>\n",
       "      <td>Effect</td>\n",
       "      <td>Xyz</td>\n",
       "      <td>NaN</td>\n",
       "      <td>NaN</td>\n",
       "      <td>NaN</td>\n",
       "    </tr>\n",
       "    <tr>\n",
       "      <th>4</th>\n",
       "      <td>Exploder Dragon</td>\n",
       "      <td>Shatterfoil Rare</td>\n",
       "      <td>2.08</td>\n",
       "      <td>If this card is destroyed by battle and sent t...</td>\n",
       "      <td>monster</td>\n",
       "      <td>earth</td>\n",
       "      <td>1000.0</td>\n",
       "      <td>0.0</td>\n",
       "      <td>3.0</td>\n",
       "      <td>NaN</td>\n",
       "      <td>Dragon</td>\n",
       "      <td>Effect</td>\n",
       "      <td>NaN</td>\n",
       "      <td>NaN</td>\n",
       "      <td>NaN</td>\n",
       "      <td>NaN</td>\n",
       "    </tr>\n",
       "  </tbody>\n",
       "</table>\n",
       "</div>"
      ],
      "text/plain": [
       "                      Name            Rarity  Price  \\\n",
       "0  XX-Saber Boggart Knight  Shatterfoil Rare   2.73   \n",
       "1            Gagaga Cowboy  Shatterfoil Rare   4.68   \n",
       "2        Forbidden Chalice  Shatterfoil Rare   2.09   \n",
       "3         Fairy Cheer Girl  Shatterfoil Rare   2.06   \n",
       "4          Exploder Dragon  Shatterfoil Rare   2.08   \n",
       "\n",
       "                                         Description CardType Attribute  \\\n",
       "0  When this card is Normal Summoned: You can Spe...  monster     earth   \n",
       "1  2 Level 4 monsters\\r\\n\\r\\nOnce per turn: You c...  monster     earth   \n",
       "2  Target 1 face-up monster on the field; until t...    spell       NaN   \n",
       "3  2 Level 4 Fairy-Type monsters\\r\\n\\r\\nYou can d...  monster     light   \n",
       "4  If this card is destroyed by battle and sent t...  monster     earth   \n",
       "\n",
       "      ATK     DEF  LVL    Property    MonsterType isEffect Ability1 Ability2  \\\n",
       "0  1900.0  1000.0  4.0         NaN  Beast-Warrior   Effect      NaN      NaN   \n",
       "1  1500.0  2400.0  4.0         NaN        Warrior   Effect      Xyz      NaN   \n",
       "2     NaN     NaN  NaN  Quick-Play            NaN      NaN      NaN      NaN   \n",
       "3  1900.0  1500.0  4.0         NaN          Fairy   Effect      Xyz      NaN   \n",
       "4  1000.0     0.0  3.0         NaN         Dragon   Effect      NaN      NaN   \n",
       "\n",
       "  isTuner isPendulum  \n",
       "0     NaN        NaN  \n",
       "1     NaN        NaN  \n",
       "2     NaN        NaN  \n",
       "3     NaN        NaN  \n",
       "4     NaN        NaN  "
      ]
     },
     "execution_count": 2,
     "metadata": {},
     "output_type": "execute_result"
    }
   ],
   "source": [
    "import pandas as pd\n",
    "import matplotlib.pyplot as plt\n",
    "import numpy as np\n",
    "\n",
    "df = pd.read_csv(\"dbs/yugi_db_polished.csv\", index_col=0)\n",
    "\n",
    "df.head()"
   ]
  },
  {
   "attachments": {},
   "cell_type": "markdown",
   "metadata": {},
   "source": [
    "### Análise Exploratória e Limpeza dos Dados\n",
    "\n",
    "Com os dados em mãos, podemos começar realizando uma análise exploratória na qual desejamos identificar as características do dataset, observando a estrutura dos dados disponíveis, presença de anomalias, tendências, padrões, distribuições e dados ausentes. O entendimento dos dados é fundamental para se poder tomar decisões com bom embasamento acerca da abordagem que utilizaremos."
   ]
  },
  {
   "cell_type": "code",
   "execution_count": 3,
   "metadata": {},
   "outputs": [
    {
     "name": "stdout",
     "output_type": "stream",
     "text": [
      "<class 'pandas.core.frame.DataFrame'>\n",
      "Int64Index: 11574 entries, 0 to 11573\n",
      "Data columns (total 16 columns):\n",
      " #   Column       Non-Null Count  Dtype  \n",
      "---  ------       --------------  -----  \n",
      " 0   Name         11574 non-null  object \n",
      " 1   Rarity       11574 non-null  object \n",
      " 2   Price        11574 non-null  float64\n",
      " 3   Description  11574 non-null  object \n",
      " 4   CardType     11574 non-null  object \n",
      " 5   Attribute    7470 non-null   object \n",
      " 6   ATK          7580 non-null   float64\n",
      " 7   DEF          7580 non-null   float64\n",
      " 8   LVL          7580 non-null   float64\n",
      " 9   Property     3994 non-null   object \n",
      " 10  MonsterType  7580 non-null   object \n",
      " 11  isEffect     7580 non-null   object \n",
      " 12  Ability1     1709 non-null   object \n",
      " 13  Ability2     138 non-null    object \n",
      " 14  isTuner      453 non-null    object \n",
      " 15  isPendulum   277 non-null    object \n",
      "dtypes: float64(4), object(12)\n",
      "memory usage: 1.5+ MB\n"
     ]
    }
   ],
   "source": [
    "df.info()"
   ]
  },
  {
   "cell_type": "code",
   "execution_count": 4,
   "metadata": {},
   "outputs": [
    {
     "name": "stdout",
     "output_type": "stream",
     "text": [
      "Index(['Name', 'Rarity', 'Price', 'Description', 'CardType', 'Attribute',\n",
      "       'ATK', 'DEF', 'LVL', 'Property', 'MonsterType', 'isEffect', 'Ability1',\n",
      "       'Ability2', 'isTuner', 'isPendulum'],\n",
      "      dtype='object')\n"
     ]
    }
   ],
   "source": [
    "print(df.columns)"
   ]
  },
  {
   "attachments": {},
   "cell_type": "markdown",
   "metadata": {},
   "source": [
    "**Explicar o que significa cada coluna**"
   ]
  },
  {
   "attachments": {},
   "cell_type": "markdown",
   "metadata": {},
   "source": [
    "É possível notar que diversas colunas têm uma grande quantidade de dados faltantes. No entanto, esses dados \"faltantes\" significam, na verdade, se as cartas possuem certos atributos ou não. Para analisar as características individuais de cada tipo de carta (\"CardType\"), podemos analisar um recorte de cada um dos tipos:"
   ]
  },
  {
   "cell_type": "code",
   "execution_count": 5,
   "metadata": {},
   "outputs": [
    {
     "name": "stdout",
     "output_type": "stream",
     "text": [
      "<class 'pandas.core.frame.DataFrame'>\n",
      "Int64Index: 7580 entries, 0 to 11571\n",
      "Data columns (total 12 columns):\n",
      " #   Column       Non-Null Count  Dtype  \n",
      "---  ------       --------------  -----  \n",
      " 0   CardType     7580 non-null   object \n",
      " 1   Attribute    7470 non-null   object \n",
      " 2   ATK          7580 non-null   float64\n",
      " 3   DEF          7580 non-null   float64\n",
      " 4   LVL          7580 non-null   float64\n",
      " 5   Property     0 non-null      object \n",
      " 6   MonsterType  7580 non-null   object \n",
      " 7   isEffect     7580 non-null   object \n",
      " 8   Ability1     1709 non-null   object \n",
      " 9   Ability2     138 non-null    object \n",
      " 10  isTuner      453 non-null    object \n",
      " 11  isPendulum   277 non-null    object \n",
      "dtypes: float64(3), object(9)\n",
      "memory usage: 769.8+ KB\n"
     ]
    }
   ],
   "source": [
    "card_caracteristics = [\"CardType\", \"Attribute\", \"ATK\", \"DEF\", \"LVL\", \"Property\", \"MonsterType\", \"isEffect\", \"Ability1\", \"Ability2\", \"isTuner\", \"isPendulum\"]\n",
    "for card_type in df[\"CardType\"].unique():\n",
    "    recorte = df[df[\"CardType\"] == card_type][card_caracteristics]\n",
    "    break\n",
    "    \n",
    "recorte.info()"
   ]
  },
  {
   "attachments": {},
   "cell_type": "markdown",
   "metadata": {},
   "source": [
    "Desta forma, é possível inferir a seguinte relação dos tipos de cartas para as características que podem possuir:\n",
    "\n",
    "- **Monster**: Possui *Attribute*, *ATK*, *DEF*, *LVL*, *MonsterType* ..."
   ]
  },
  {
   "cell_type": "code",
   "execution_count": null,
   "metadata": {},
   "outputs": [],
   "source": []
  },
  {
   "attachments": {},
   "cell_type": "markdown",
   "metadata": {},
   "source": [
    "Agora, a ideia é realizar um pré-processamento desses dados ..."
   ]
  },
  {
   "cell_type": "code",
   "execution_count": null,
   "metadata": {},
   "outputs": [],
   "source": []
  },
  {
   "attachments": {},
   "cell_type": "markdown",
   "metadata": {},
   "source": [
    "### Pré-processamento dos dados\n",
    "\n",
    "Nesta etapa, os dados são transformados em uma forma adequada para serem utilizados pelos modelos de Machine Learning. Isso pode envolver a normalização ou padronização das variáveis, a codificação de variáveis categóricas, a redução de dimensionalidade e outras técnicas de preparação dos dados."
   ]
  },
  {
   "cell_type": "code",
   "execution_count": null,
   "metadata": {},
   "outputs": [],
   "source": []
  },
  {
   "attachments": {},
   "cell_type": "markdown",
   "metadata": {},
   "source": [
    "### Text Embedding\n",
    "\n",
    "A informação da descrição (\"Description\") das cartas, apesar de ser um texto complexo e não apenas uma variável categórica ou numérica, ainda pode ser transformado em informação útil para o modelo. A solução é utilizar um modelo pré-treinado do Keras para obter um vetor numérico a partir das palavras da descrição. Com este vetor, é possível realizar uma decomposição conhecida com *Principal Component Analysis* (ou *PCA*), reduzindo este vetor à apenas 5 números, que serão passados como parâmetros para o modelo de regressão."
   ]
  },
  {
   "cell_type": "code",
   "execution_count": null,
   "metadata": {},
   "outputs": [],
   "source": [
    "import tensorflow_hub as hub\n",
    "from sklearn.decomposition import PCA\n",
    "\n",
    "model = hub.KerasLayer(\"https://tfhub.dev/google/nnlm-en-dim128/2\")\n",
    "\n",
    "DATAFRAME = df.copy()"
   ]
  },
  {
   "cell_type": "code",
   "execution_count": null,
   "metadata": {},
   "outputs": [],
   "source": [
    "embeddings = model(DATAFRAME[\"text\"])\n",
    "embeddings.shape"
   ]
  },
  {
   "cell_type": "code",
   "execution_count": null,
   "metadata": {},
   "outputs": [],
   "source": [
    "pca_model = PCA(n_components=5)\n",
    "pca_DF = pca_model.fit_transform(embeddings)\n",
    "pca_DF"
   ]
  },
  {
   "cell_type": "code",
   "execution_count": null,
   "metadata": {},
   "outputs": [],
   "source": [
    "df_new = pd.DataFrame(pca_DF, columns=['pca1', 'pca2','pca3','pca4','pca5'])\n",
    "df_new"
   ]
  },
  {
   "cell_type": "code",
   "execution_count": null,
   "metadata": {},
   "outputs": [],
   "source": [
    "df1 = DATAFRAME.copy()\n",
    "df1 = df1.join(df_new)\n",
    "df1"
   ]
  },
  {
   "cell_type": "code",
   "execution_count": null,
   "metadata": {},
   "outputs": [],
   "source": []
  },
  {
   "attachments": {},
   "cell_type": "markdown",
   "metadata": {},
   "source": [
    "### Divisão dos dados\n",
    "\n",
    "Antes de prosseguir para a seleção de um modelo e treinamento, é necessário dividir os dados em conjuntos de treinamento, validação e teste. O conjunto de treinamento é utilizado para treinar o modelo, o conjunto de validação é usado para ajustar os parâmetros do modelo e o conjunto de teste é utilizado para avaliar o desempenho final do modelo. Esta divisão é importante para evitar que a avaliação do modelo seja enviesada pelo resultado final, de forma a \"overfittar\" para os dados de teste. "
   ]
  },
  {
   "cell_type": "code",
   "execution_count": null,
   "metadata": {},
   "outputs": [],
   "source": []
  },
  {
   "attachments": {},
   "cell_type": "markdown",
   "metadata": {},
   "source": [
    "### Seleção e Treinamento do modelo\n",
    "\n",
    "O modelo selecionado é o ... e será treinado usando o conjunto de treinamento. O treinamento envolve alimentar os dados ao modelo e ajustar seus parâmetros com o objetivo de aprender os padrões presentes nos dados."
   ]
  },
  {
   "cell_type": "code",
   "execution_count": null,
   "metadata": {},
   "outputs": [],
   "source": []
  },
  {
   "attachments": {},
   "cell_type": "markdown",
   "metadata": {},
   "source": [
    "### Avaliação do modelo\n",
    "\n",
    "O desempenho do modelo é avaliado usando o conjunto de validação. Métricas como acurácia, precisão, recall, F1-score e curvas de aprendizado são utilizadas para avaliar o quão bem o modelo está generalizando os dados."
   ]
  },
  {
   "cell_type": "code",
   "execution_count": null,
   "metadata": {},
   "outputs": [],
   "source": []
  },
  {
   "attachments": {},
   "cell_type": "markdown",
   "metadata": {},
   "source": [
    "### Ajuste do modelo\n",
    "\n",
    "Com base na avaliação do modelo, é possível ajustar os parâmetros, selecionar diferentes algoritmos ou fazer outras modificações para melhorar o desempenho do modelo."
   ]
  },
  {
   "cell_type": "code",
   "execution_count": null,
   "metadata": {},
   "outputs": [],
   "source": []
  },
  {
   "attachments": {},
   "cell_type": "markdown",
   "metadata": {},
   "source": [
    "### Teste do modelo\n",
    "\n",
    "O modelo ajustado é então testado usando o conjunto de teste, que contém dados não vistos anteriormente. Isso permite avaliar como o modelo se comporta em situações reais e verificar sua capacidade de generalização."
   ]
  },
  {
   "cell_type": "code",
   "execution_count": null,
   "metadata": {},
   "outputs": [],
   "source": []
  },
  {
   "attachments": {},
   "cell_type": "markdown",
   "metadata": {},
   "source": []
  }
 ],
 "metadata": {
  "kernelspec": {
   "display_name": "env",
   "language": "python",
   "name": "python3"
  },
  "language_info": {
   "codemirror_mode": {
    "name": "ipython",
    "version": 3
   },
   "file_extension": ".py",
   "mimetype": "text/x-python",
   "name": "python",
   "nbconvert_exporter": "python",
   "pygments_lexer": "ipython3",
   "version": "3.10.10"
  },
  "orig_nbformat": 4
 },
 "nbformat": 4,
 "nbformat_minor": 2
}
